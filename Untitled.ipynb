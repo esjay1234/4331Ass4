{
 "cells": [
  {
   "cell_type": "code",
   "execution_count": 89,
   "metadata": {
    "collapsed": true
   },
   "outputs": [],
   "source": [
    "import numpy as np\n",
    "import math"
   ]
  },
  {
   "cell_type": "code",
   "execution_count": 59,
   "metadata": {},
   "outputs": [],
   "source": [
    "#function used to parse the csv file to array\n",
    "def get_data(file=\"click-stream event.csv\", columns = range(1,7)):\n",
    "    return np.loadtxt(file,delimiter=\",\",skiprows=1, usecols=columns)"
   ]
  },
  {
   "cell_type": "code",
   "execution_count": 60,
   "metadata": {},
   "outputs": [],
   "source": [
    "#function to obtain the manhatten distance of two points\n",
    "def manhatten_distance(p1, p2):\n",
    "    return np.sum(np.square(p1 - p2))"
   ]
  },
  {
   "cell_type": "code",
   "execution_count": 61,
   "metadata": {
    "collapsed": true
   },
   "outputs": [],
   "source": [
    "# function to obtain the euclidean distance of two points\n",
    "def euclidean_distance(p1, p2):\n",
    "    return np.sum(np.absolute(p1 - p2))**(1/2)"
   ]
  },
  {
   "cell_type": "code",
   "execution_count": 62,
   "metadata": {},
   "outputs": [],
   "source": [
    "#function that outputs distance array between all points\n",
    "def distance_of_points(data, manhatten):\n",
    "    distance_array = np.zeros((len(data),len(data)))\n",
    "    for i in range(len(data)):\n",
    "        for j in range(i,len(data)):\n",
    "            distance = manhatten_distance(data[i],data[j]) if manhatten else euclidean_distance(data[i],data[j])\n",
    "            distance_array[i][j] = distance\n",
    "            distance_array[j][i] = distance\n",
    "    return distance_array"
   ]
  },
  {
   "cell_type": "code",
   "execution_count": 63,
   "metadata": {},
   "outputs": [],
   "source": [
    "#function that outputs kth nearest neighbor distance\n",
    "def  kth_nearest_distance(distance_array, k):\n",
    "    list = []\n",
    "    for row in distance_array:\n",
    "        row.sort()\n",
    "        list.append(row[k])\n",
    "    return list"
   ]
  },
  {
   "cell_type": "code",
   "execution_count": 64,
   "metadata": {},
   "outputs": [],
   "source": [
    "#function that outputs kth  nearest neighbor list\n",
    "def  kth_nearest(distance_array, kth):\n",
    "    list = []\n",
    "    for i in range(len(distance_array)):\n",
    "        temp = []\n",
    "        for j in range(len(distance_array[i])):\n",
    "            if distance_array[i][j]<=kth[i] and i!=j:\n",
    "                temp.append(j)\n",
    "        list.append(temp)\n",
    "    return list"
   ]
  },
  {
   "cell_type": "code",
   "execution_count": 65,
   "metadata": {},
   "outputs": [],
   "source": [
    "# function that outputs lrdk\n",
    "def lrdk_per_row(kth, kth_nearest_row, distance_array, index):\n",
    "    reachdistsum = 0\n",
    "    for i in kth_nearest_row:\n",
    "        reachdistsum += reachdist(i, index, kth, distance_array)\n",
    "    return len(kth_nearest_row)/reachdistsum"
   ]
  },
  {
   "cell_type": "code",
   "execution_count": 66,
   "metadata": {
    "collapsed": true
   },
   "outputs": [],
   "source": [
    "# function that outputs reach distance\n",
    "def reachdist(p1, p2, kth, distance_array):\n",
    "    return max(kth[p1],distance_array[p1][p2])"
   ]
  },
  {
   "cell_type": "code",
   "execution_count": 67,
   "metadata": {
    "collapsed": true
   },
   "outputs": [],
   "source": [
    "def lrdk (kth, kth_nearest_array, distance_array):\n",
    "    lrdk_array = []\n",
    "    for  i in range(len(kth_nearest_array)):\n",
    "        lrdk_array.append(lrdk_per_row(kth, kth_nearest_array[i], distance_array, i))\n",
    "    return lrdk_array"
   ]
  },
  {
   "cell_type": "code",
   "execution_count": 215,
   "metadata": {
    "collapsed": true
   },
   "outputs": [],
   "source": [
    "# function that outputs lof\n",
    "def lof(manhatten, k):\n",
    "    data = get_data()\n",
    "    distance_array = distance_of_points(data, manhatten)\n",
    "    kth =  kth_nearest_distance(distance_array, k)\n",
    "    kth_nearest_array = kth_nearest(distance_array, kth)\n",
    "    lrdk_array = lrdk(kth, kth_nearest_array, distance_array)\n",
    "    \n",
    "    list = []\n",
    "    for i in range(len(lrdk_array)):\n",
    "        sumoflrdk = 0\n",
    "        for j in kth_nearest_array[i]:\n",
    "            sumoflrdk += lrdk_array[j]/lrdk_array[i]\n",
    "        list.append(sumoflrdk/len(kth_nearest_array[i]))\n",
    "    return list"
   ]
  },
  {
   "cell_type": "code",
   "execution_count": 216,
   "metadata": {
    "collapsed": true
   },
   "outputs": [],
   "source": [
    "# function  that finds top 10 biggest lof\n",
    "def top10(lof_array):\n",
    "    lof_arr = np.array(lof_array)\n",
    "    top = np.argsort(lof_arr)\n",
    "    return top[-10:]"
   ]
  },
  {
   "cell_type": "code",
   "execution_count": 217,
   "metadata": {},
   "outputs": [],
   "source": [
    "lof_array = lof(False,2)"
   ]
  },
  {
   "cell_type": "code",
   "execution_count": 219,
   "metadata": {},
   "outputs": [
    {
     "data": {
      "text/plain": [
       "array([679, 682, 684, 691, 687, 688, 693, 689, 692, 694])"
      ]
     },
     "execution_count": 219,
     "metadata": {},
     "output_type": "execute_result"
    }
   ],
   "source": [
    "top10(lof_array)"
   ]
  },
  {
   "cell_type": "code",
   "execution_count": null,
   "metadata": {},
   "outputs": [],
   "source": []
  },
  {
   "cell_type": "code",
   "execution_count": null,
   "metadata": {},
   "outputs": [],
   "source": []
  },
  {
   "cell_type": "code",
   "execution_count": null,
   "metadata": {},
   "outputs": [],
   "source": []
  },
  {
   "cell_type": "code",
   "execution_count": null,
   "metadata": {},
   "outputs": [],
   "source": []
  },
  {
   "cell_type": "code",
   "execution_count": null,
   "metadata": {},
   "outputs": [],
   "source": []
  },
  {
   "cell_type": "markdown",
   "metadata": {},
   "source": [
    "# Scikitlearn"
   ]
  },
  {
   "cell_type": "code",
   "execution_count": 220,
   "metadata": {
    "collapsed": true
   },
   "outputs": [],
   "source": [
    "from sklearn.neighbors import LocalOutlierFactor"
   ]
  },
  {
   "cell_type": "code",
   "execution_count": 221,
   "metadata": {
    "collapsed": true
   },
   "outputs": [],
   "source": [
    "clf = LocalOutlierFactor(n_neighbors=2,metric='manhattan')"
   ]
  },
  {
   "cell_type": "code",
   "execution_count": 222,
   "metadata": {},
   "outputs": [],
   "source": [
    "y_pred = clf.fit_predict(get_data())"
   ]
  },
  {
   "cell_type": "markdown",
   "metadata": {},
   "source": [
    "# Cell-Based"
   ]
  },
  {
   "cell_type": "code",
   "execution_count": 223,
   "metadata": {
    "collapsed": true
   },
   "outputs": [],
   "source": [
    "def cell_dimensions(data, d):\n",
    "    d = d/2/2**(1/2)\n",
    "    x, y = np.max(data,axis=0)\n",
    "    x_dim = math.ceil(x/d)\n",
    "    y_dim = math.ceil(y/d)\n",
    "    return x_dim, y_dim"
   ]
  },
  {
   "cell_type": "code",
   "execution_count": 224,
   "metadata": {
    "collapsed": true
   },
   "outputs": [],
   "source": [
    "def cell_and_count(data, d):\n",
    "    d = d/2/2**(1/2)\n",
    "    x_dim, y_dim = cell_dimensions(data, d)\n",
    "    cell = [[[] for i in range(y_dim)] for i in range(x_dim)]\n",
    "    count = np.zeros((x_dim, y_dim))\n",
    "    for i in range(len(data)):\n",
    "        x = int(data[i][0]/d)\n",
    "        y = int(data[i][1]/d)\n",
    "        if x == x_dim:\n",
    "            x -= 1\n",
    "        if y == y_dim:\n",
    "            y -= 1\n",
    "        cell[x][y].append(i)\n",
    "        count[x][y] += 1\n",
    "    return cell, count, x_dim, y_dim"
   ]
  },
  {
   "cell_type": "code",
   "execution_count": 225,
   "metadata": {
    "collapsed": true
   },
   "outputs": [],
   "source": [
    "def layer1(x,y, x_dim,y_dim):\n",
    "    out =[]\n",
    "    for i in range(x-1,x+2):\n",
    "        for j in range(y-1, y+2):\n",
    "            if (i == x and j ==x) or i<0 or j<0 or i==x_dim or j==y_dim:\n",
    "                continue\n",
    "            out.append([i,j])\n",
    "    return out"
   ]
  },
  {
   "cell_type": "code",
   "execution_count": 226,
   "metadata": {
    "collapsed": true
   },
   "outputs": [],
   "source": [
    "def label_red_pink (count, m, x_dim, y_dim):\n",
    "#   0: white 1: pink 2:red\n",
    "    label = np.zeros((x_dim, y_dim))\n",
    "    for x in range(x_dim):\n",
    "        for y in range(y_dim):\n",
    "            if count[x][y] >m:\n",
    "                label[x][y] = 2\n",
    "                l1 = layer1(x,y,x_dim,y_dim)\n",
    "                for a in l1:\n",
    "                    label[a[0]][a[1]] = max(label[a[0]][a[1]], 1)\n",
    "    return label"
   ]
  },
  {
   "cell_type": "code",
   "execution_count": 227,
   "metadata": {},
   "outputs": [],
   "source": [
    "def layer2(x,y, x_dim,y_dim):\n",
    "    out = []\n",
    "    for a  in range(-3,4):\n",
    "        for b in range(-3,4):\n",
    "            i =  x + a\n",
    "            j =  y + b\n",
    "            if (a<=1 and b<=1) or i<0 or j<0 or i>=x_dim or j>=y_dim:\n",
    "                continue\n",
    "            out.append([i, j])\n",
    "    return out"
   ]
  },
  {
   "cell_type": "code",
   "execution_count": 228,
   "metadata": {
    "collapsed": true
   },
   "outputs": [],
   "source": [
    "def find_outliers(m, d, label, count, cell, data, x_dim, y_dim):\n",
    "    outliers = []\n",
    "    for x in range(x_dim):\n",
    "        for y in range(y_dim):\n",
    "            if  label[x][y] ==0:\n",
    "                count_w2 = count[x][y]\n",
    "                l1 = layer1(x,y,x_dim,y_dim)\n",
    "                for a in l1:\n",
    "                    count_w2 += count[a[0]][a[1]]\n",
    "                if count_w2 > m:\n",
    "                    label[x][y] = 1\n",
    "                else:\n",
    "                    count_w3 = count_w2\n",
    "                    l2 = layer2(x,y,x_dim,y_dim)\n",
    "                    for a in l2:\n",
    "                        count_w3 += count[a[0]][a[1]]\n",
    "                    if count_w3 <= m:\n",
    "                        outliers += cell[x][y]\n",
    "                    else:\n",
    "                        for index in cell[x][y]:\n",
    "                            temp_count = count_w2\n",
    "                            for a in l2:\n",
    "                                for i in cell[a[0]][a[1]]:\n",
    "                                    if euclidean_distance(data[index], data[i])<=d:\n",
    "                                        temp_count += 1\n",
    "                            if  temp_count<=m:\n",
    "                                outliers.append(index)\n",
    "                            \n",
    "    return outliers"
   ]
  },
  {
   "cell_type": "code",
   "execution_count": 233,
   "metadata": {},
   "outputs": [],
   "source": [
    "def find_all_outs_m(m,d):\n",
    "    data = get_data(columns=[2,3])\n",
    "    cell,count, x_dim, y_dim = cell_and_count(data,d)\n",
    "    label = label_red_pink(count, m, x_dim, y_dim)\n",
    "    return find_outliers(m,d, label, count, cell, data, x_dim, y_dim)    "
   ]
  },
  {
   "cell_type": "code",
   "execution_count": 234,
   "metadata": {},
   "outputs": [
    {
     "data": {
      "text/plain": [
       "[83,\n",
       " 442,\n",
       " 672,\n",
       " 19,\n",
       " 245,\n",
       " 332,\n",
       " 239,\n",
       " 34,\n",
       " 694,\n",
       " 463,\n",
       " 620,\n",
       " 512,\n",
       " 542,\n",
       " 248,\n",
       " 530,\n",
       " 638,\n",
       " 514,\n",
       " 498,\n",
       " 540,\n",
       " 225,\n",
       " 476,\n",
       " 539,\n",
       " 497,\n",
       " 35,\n",
       " 401,\n",
       " 573,\n",
       " 632,\n",
       " 177,\n",
       " 410,\n",
       " 86,\n",
       " 210,\n",
       " 120,\n",
       " 98,\n",
       " 138,\n",
       " 411,\n",
       " 501,\n",
       " 467,\n",
       " 690,\n",
       " 451,\n",
       " 619,\n",
       " 652,\n",
       " 44,\n",
       " 589,\n",
       " 345,\n",
       " 602,\n",
       " 13,\n",
       " 358,\n",
       " 557,\n",
       " 400,\n",
       " 644,\n",
       " 485,\n",
       " 355,\n",
       " 306,\n",
       " 433,\n",
       " 569,\n",
       " 274,\n",
       " 470,\n",
       " 310,\n",
       " 678,\n",
       " 397,\n",
       " 576,\n",
       " 615,\n",
       " 286,\n",
       " 381,\n",
       " 154,\n",
       " 399,\n",
       " 231,\n",
       " 508,\n",
       " 149,\n",
       " 139,\n",
       " 314,\n",
       " 66,\n",
       " 244,\n",
       " 653,\n",
       " 10,\n",
       " 387,\n",
       " 493,\n",
       " 203,\n",
       " 148,\n",
       " 352,\n",
       " 61,\n",
       " 281,\n",
       " 474,\n",
       " 24,\n",
       " 351,\n",
       " 382,\n",
       " 500,\n",
       " 253,\n",
       " 333,\n",
       " 201,\n",
       " 534]"
      ]
     },
     "execution_count": 234,
     "metadata": {},
     "output_type": "execute_result"
    }
   ],
   "source": [
    "find_all_outs_m(4,2)"
   ]
  },
  {
   "cell_type": "code",
   "execution_count": 231,
   "metadata": {},
   "outputs": [],
   "source": []
  },
  {
   "cell_type": "code",
   "execution_count": 232,
   "metadata": {},
   "outputs": [],
   "source": []
  },
  {
   "cell_type": "code",
   "execution_count": 214,
   "metadata": {},
   "outputs": [
    {
     "data": {
      "text/plain": [
       "[83,\n",
       " 442,\n",
       " 672,\n",
       " 19,\n",
       " 245,\n",
       " 332,\n",
       " 239,\n",
       " 34,\n",
       " 694,\n",
       " 463,\n",
       " 620,\n",
       " 512,\n",
       " 542,\n",
       " 248,\n",
       " 530,\n",
       " 638,\n",
       " 514,\n",
       " 498,\n",
       " 540,\n",
       " 225,\n",
       " 476,\n",
       " 539,\n",
       " 497,\n",
       " 35,\n",
       " 401,\n",
       " 573,\n",
       " 632,\n",
       " 177,\n",
       " 410,\n",
       " 86,\n",
       " 210,\n",
       " 120,\n",
       " 98,\n",
       " 138,\n",
       " 411,\n",
       " 501,\n",
       " 467,\n",
       " 690,\n",
       " 451,\n",
       " 619,\n",
       " 652,\n",
       " 44,\n",
       " 589,\n",
       " 345,\n",
       " 602,\n",
       " 13,\n",
       " 358,\n",
       " 557,\n",
       " 400,\n",
       " 644,\n",
       " 485,\n",
       " 355,\n",
       " 306,\n",
       " 433,\n",
       " 569,\n",
       " 274,\n",
       " 470,\n",
       " 310,\n",
       " 678,\n",
       " 397,\n",
       " 576,\n",
       " 615,\n",
       " 286,\n",
       " 381,\n",
       " 154,\n",
       " 399,\n",
       " 231,\n",
       " 508,\n",
       " 149,\n",
       " 139,\n",
       " 314,\n",
       " 66,\n",
       " 244,\n",
       " 653,\n",
       " 10,\n",
       " 387,\n",
       " 493,\n",
       " 203,\n",
       " 148,\n",
       " 352,\n",
       " 61,\n",
       " 281,\n",
       " 474,\n",
       " 24,\n",
       " 351,\n",
       " 382,\n",
       " 500,\n",
       " 253,\n",
       " 333,\n",
       " 201,\n",
       " 534]"
      ]
     },
     "execution_count": 214,
     "metadata": {},
     "output_type": "execute_result"
    }
   ],
   "source": [
    "outliers"
   ]
  },
  {
   "cell_type": "code",
   "execution_count": null,
   "metadata": {
    "collapsed": true
   },
   "outputs": [],
   "source": []
  }
 ],
 "metadata": {
  "kernelspec": {
   "display_name": "Python 3",
   "language": "python",
   "name": "python3"
  },
  "language_info": {
   "codemirror_mode": {
    "name": "ipython",
    "version": 3
   },
   "file_extension": ".py",
   "mimetype": "text/x-python",
   "name": "python",
   "nbconvert_exporter": "python",
   "pygments_lexer": "ipython3",
   "version": "3.6.3"
  }
 },
 "nbformat": 4,
 "nbformat_minor": 2
}
