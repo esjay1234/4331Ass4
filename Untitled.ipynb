{
 "cells": [
  {
   "cell_type": "code",
   "execution_count": 1,
   "metadata": {
    "collapsed": true
   },
   "outputs": [],
   "source": [
    "import numpy as np"
   ]
  },
  {
   "cell_type": "code",
   "execution_count": 2,
   "metadata": {},
   "outputs": [],
   "source": [
    "#function used to parse the csv file to array\n",
    "def get_data(file=\"click-stream event.csv\"):\n",
    "    with open(file) as f:\n",
    "        ncols = len(f.readline().split(','))\n",
    "    return np.loadtxt(file,delimiter=\",\",skiprows=1, usecols=range(1,ncols))"
   ]
  },
  {
   "cell_type": "code",
   "execution_count": 3,
   "metadata": {},
   "outputs": [],
   "source": [
    "#function to obtain the manhatten distance of two points\n",
    "def manhatten_distance(p1, p2):\n",
    "    return np.sum(np.square(p1 - p2))"
   ]
  },
  {
   "cell_type": "code",
   "execution_count": 4,
   "metadata": {
    "collapsed": true
   },
   "outputs": [],
   "source": [
    "# function to obtain the euclidean distance of two points\n",
    "def euclidean_distance(p1, p2):\n",
    "    return np.sum(np.absolute(p1 - p2))**(1/2)"
   ]
  },
  {
   "cell_type": "code",
   "execution_count": 5,
   "metadata": {},
   "outputs": [],
   "source": [
    "#function that outputs distance array between all points\n",
    "def distance_of_points(data, manhatten):\n",
    "    distance_array = np.zeros((len(data),len(data)))\n",
    "    for i in range(len(data)):\n",
    "        for j in range(i,len(data)):\n",
    "            distance = manhatten_distance(data[i],data[j]) if manhatten else euclidean_distance(data[i],data[j])\n",
    "            distance_array[i][j] = distance\n",
    "            distance_array[j][i] = distance\n",
    "    return distance_array"
   ]
  },
  {
   "cell_type": "code",
   "execution_count": 6,
   "metadata": {},
   "outputs": [],
   "source": [
    "#function that outputs kth nearest neighbor distance\n",
    "def  kth_nearest_distance(distance_array, k):\n",
    "    list = []\n",
    "    for row in distance_array:\n",
    "        row.sort()\n",
    "        list.append(row[k])\n",
    "    return list"
   ]
  },
  {
   "cell_type": "code",
   "execution_count": 7,
   "metadata": {},
   "outputs": [],
   "source": [
    "#function that outputs kth  nearest neighbor list\n",
    "def  kth_nearest(distance_array, kth):\n",
    "    list = []\n",
    "    for i in range(len(distance_array)):\n",
    "        temp = []\n",
    "        for j in range(len(distance_array[i])):\n",
    "            if distance_array[i][j]<=kth[i] and i!=j:\n",
    "                temp.append(j)\n",
    "        list.append(temp)\n",
    "    return list"
   ]
  },
  {
   "cell_type": "code",
   "execution_count": 8,
   "metadata": {},
   "outputs": [],
   "source": [
    "# function that outputs lrdk\n",
    "def lrdk_per_row(kth, kth_nearest_row, distance_array, index):\n",
    "    reachdistsum = 0\n",
    "    for i in kth_nearest_row:\n",
    "        reachdistsum += reachdist(i, index, kth, distance_array)\n",
    "    return len(kth_nearest_row)/reachdistsum"
   ]
  },
  {
   "cell_type": "code",
   "execution_count": 9,
   "metadata": {
    "collapsed": true
   },
   "outputs": [],
   "source": [
    "# function that outputs reach distance\n",
    "def reachdist(p1, p2, kth, distance_array):\n",
    "    return max(kth[p1],distance_array[p1][p2])"
   ]
  },
  {
   "cell_type": "code",
   "execution_count": 10,
   "metadata": {
    "collapsed": true
   },
   "outputs": [],
   "source": [
    "def lrdk (kth, kth_nearest_array, distance_array):\n",
    "    lrdk_array = []\n",
    "    for  i in range(len(kth_nearest_array)):\n",
    "        lrdk_array.append(lrdk_per_row(kth, kth_nearest_array[i], distance_array, i))\n",
    "    return lrdk_array"
   ]
  },
  {
   "cell_type": "code",
   "execution_count": 11,
   "metadata": {
    "collapsed": true
   },
   "outputs": [],
   "source": [
    "# function that outputs lof\n",
    "def lof(kth_nearest_array, lrdk_array):\n",
    "    list = []\n",
    "    for i in range(len(lrdk_array)):\n",
    "        sumoflrdk = 0\n",
    "        for j in kth_nearest_array[i]:\n",
    "            sumoflrdk += lrdk_array[j]/lrdk_array[i]\n",
    "        list.append(sumoflrdk/len(kth_nearest_array[i]))\n",
    "    return list"
   ]
  },
  {
   "cell_type": "code",
   "execution_count": 35,
   "metadata": {
    "collapsed": true
   },
   "outputs": [],
   "source": [
    "# function  that finds top 10 biggest lof\n",
    "def top10(lof_array):\n",
    "    lof_arr = np.array(lof_array)\n",
    "    top = np.argsort(lof_arr)\n",
    "    return top[-10:]"
   ]
  },
  {
   "cell_type": "code",
   "execution_count": 51,
   "metadata": {},
   "outputs": [],
   "source": [
    "data = get_data()"
   ]
  },
  {
   "cell_type": "code",
   "execution_count": 52,
   "metadata": {},
   "outputs": [],
   "source": [
    "distance_array = distance_of_points(data, False)"
   ]
  },
  {
   "cell_type": "code",
   "execution_count": 53,
   "metadata": {},
   "outputs": [],
   "source": [
    "kth =  kth_nearest_distance(distance_array, 2)"
   ]
  },
  {
   "cell_type": "code",
   "execution_count": 54,
   "metadata": {},
   "outputs": [],
   "source": [
    "kth_nearest_array = kth_nearest(distance_array, kth)"
   ]
  },
  {
   "cell_type": "code",
   "execution_count": 55,
   "metadata": {},
   "outputs": [],
   "source": [
    "lrdk_array = lrdk(kth, kth_nearest_array, distance_array)"
   ]
  },
  {
   "cell_type": "code",
   "execution_count": 56,
   "metadata": {},
   "outputs": [],
   "source": [
    "lof_array = lof(kth_nearest_array, lrdk_array)"
   ]
  },
  {
   "cell_type": "code",
   "execution_count": 57,
   "metadata": {},
   "outputs": [
    {
     "data": {
      "text/plain": [
       "array([679, 682, 684, 691, 687, 688, 693, 689, 692, 694])"
      ]
     },
     "execution_count": 57,
     "metadata": {},
     "output_type": "execute_result"
    }
   ],
   "source": [
    "top10(lof_array)"
   ]
  },
  {
   "cell_type": "markdown",
   "metadata": {},
   "source": [
    "# Scikitlearn"
   ]
  },
  {
   "cell_type": "code",
   "execution_count": 22,
   "metadata": {
    "collapsed": true
   },
   "outputs": [],
   "source": [
    "from sklearn.neighbors import LocalOutlierFactor"
   ]
  },
  {
   "cell_type": "code",
   "execution_count": 58,
   "metadata": {
    "collapsed": true
   },
   "outputs": [],
   "source": [
    "clf = LocalOutlierFactor(n_neighbors=2,metric='manhattan')"
   ]
  },
  {
   "cell_type": "code",
   "execution_count": 61,
   "metadata": {},
   "outputs": [],
   "source": [
    "y_pred = clf.fit_predict(get_data())"
   ]
  },
  {
   "cell_type": "code",
   "execution_count": null,
   "metadata": {},
   "outputs": [],
   "source": []
  },
  {
   "cell_type": "code",
   "execution_count": null,
   "metadata": {
    "collapsed": true
   },
   "outputs": [],
   "source": []
  }
 ],
 "metadata": {
  "kernelspec": {
   "display_name": "Python 3",
   "language": "python",
   "name": "python3"
  },
  "language_info": {
   "codemirror_mode": {
    "name": "ipython",
    "version": 3
   },
   "file_extension": ".py",
   "mimetype": "text/x-python",
   "name": "python",
   "nbconvert_exporter": "python",
   "pygments_lexer": "ipython3",
   "version": "3.6.3"
  }
 },
 "nbformat": 4,
 "nbformat_minor": 2
}
